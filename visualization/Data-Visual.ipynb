{
 "cells": [
  {
   "cell_type": "code",
   "execution_count": 118,
   "metadata": {},
   "outputs": [
    {
     "data": {
      "image/png": "[encoded data removed]",
      "text/plain": [
       "<Figure size 432x288 with 1 Axes>"
      ]
     },
     "metadata": {
      "needs_background": "light"
     },
     "output_type": "display_data"
    }
   ],
   "source": [
    "import numpy as np\n",
    "import pandas\n",
    "import matplotlib.pyplot as plt\n",
    "import seaborn as sns\n",
    "import random\n",
    "\n",
    "def visual2(dataset):\n",
    "    dev = pandas.read_csv('./SST-1/dev.csv', header=None)\n",
    "    test = pandas.read_csv('./SST-1/test.csv', header=None)\n",
    "    train = pandas.read_csv('./SST-1/train.csv', header=None)\n",
    "    \n",
    "    df = pandas.concat([dev,test,train])\n",
    "    \n",
    "    df[1] = df[1].astype(str)\n",
    "    df['length'] = df[1].str.split().apply(len).value_counts()\n",
    "    df.boxplot(column='length', patch_artist=True)\n",
    "    plt.title(dataset + \" Sentence Length Boxplot\")\n",
    "    plt.savefig(dataset + '_length_boxplot.png')\n",
    "    plt.show()\n",
    "    \n",
    "def visual3(df, dataset):\n",
    "    df['review'] = df['review'].astype(str)\n",
    "    df['length'] = df['review'].str.split().apply(len).value_counts()\n",
    "    df.boxplot(column='length', patch_artist=True)\n",
    "    plt.title(dataset + \" Sentence Length Boxplot\")\n",
    "    plt.savefig(dataset + '_length_boxplot.png')\n",
    "    plt.show()\n",
    "    \n",
    "def visual(df, dataset):\n",
    "    df[0] = df[0].astype(str)\n",
    "    df['length'] = df[0].str.split().apply(len).value_counts()\n",
    "    \n",
    "    df.boxplot(column='length', patch_artist=True)\n",
    "    plt.title(dataset + \" Sentence Length Boxplot\")\n",
    "    plt.savefig(dataset + '_length_boxplot.png')\n",
    "    plt.show()\n",
    "    \n",
    "\n",
    "#visual(pandas.read_csv('MR.csv', header=None), \"MR\")\n",
    "#visual(pandas.read_csv('SUBJ.csv', header=None), \"SUBJ\")\n",
    "#visual(pandas.read_csv('CR.csv', header=None), \"CR\")\n",
    "#visual(pandas.read_csv('TREC.csv', header=None), \"TREC\")\n",
    "#visual2(\"SST\")\n",
    "#visual3(pandas.read_csv('IMDB.csv', encoding = \"ISO-8859-1\"), \"IMDB\")\n"
   ]
  },
  {
   "cell_type": "code",
   "execution_count": null,
   "metadata": {},
   "outputs": [],
   "source": []
  }
 ],
 "metadata": {
  "kernelspec": {
   "display_name": "Python 3",
   "language": "python",
   "name": "python3"
  },
  "language_info": {
   "codemirror_mode": {
    "name": "ipython",
    "version": 3
   },
   "file_extension": ".py",
   "mimetype": "text/x-python",
   "name": "python",
   "nbconvert_exporter": "python",
   "pygments_lexer": "ipython3",
   "version": "3.7.1"
  }
 },
 "nbformat": 4,
 "nbformat_minor": 2
}
